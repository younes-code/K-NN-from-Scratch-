{
 "cells": [
  {
   "cell_type": "code",
   "execution_count": 88,
   "id": "895a12d0",
   "metadata": {
    "scrolled": true
   },
   "outputs": [
    {
     "name": "stdout",
     "output_type": "stream",
     "text": [
      "5.1, 3.5, 1.4, 0.2, Iris-setosa\n",
      "4.9, 3.0, 1.4, 0.2, Iris-setosa\n",
      "4.7, 3.2, 1.3, 0.2, Iris-setosa\n",
      "4.6, 3.1, 1.5, 0.2, Iris-setosa\n",
      "5.0, 3.6, 1.4, 0.2, Iris-setosa\n",
      "5.4, 3.9, 1.7, 0.4, Iris-setosa\n",
      "4.6, 3.4, 1.4, 0.3, Iris-setosa\n",
      "5.0, 3.4, 1.5, 0.2, Iris-setosa\n",
      "4.4, 2.9, 1.4, 0.2, Iris-setosa\n",
      "4.9, 3.1, 1.5, 0.1, Iris-setosa\n",
      "5.4, 3.7, 1.5, 0.2, Iris-setosa\n",
      "4.8, 3.4, 1.6, 0.2, Iris-setosa\n",
      "4.8, 3.0, 1.4, 0.1, Iris-setosa\n",
      "4.3, 3.0, 1.1, 0.1, Iris-setosa\n",
      "5.8, 4.0, 1.2, 0.2, Iris-setosa\n",
      "5.7, 4.4, 1.5, 0.4, Iris-setosa\n",
      "5.4, 3.9, 1.3, 0.4, Iris-setosa\n",
      "5.1, 3.5, 1.4, 0.3, Iris-setosa\n",
      "5.7, 3.8, 1.7, 0.3, Iris-setosa\n",
      "5.1, 3.8, 1.5, 0.3, Iris-setosa\n",
      "5.4, 3.4, 1.7, 0.2, Iris-setosa\n",
      "5.1, 3.7, 1.5, 0.4, Iris-setosa\n",
      "4.6, 3.6, 1.0, 0.2, Iris-setosa\n",
      "5.1, 3.3, 1.7, 0.5, Iris-setosa\n",
      "4.8, 3.4, 1.9, 0.2, Iris-setosa\n",
      "5.0, 3.0, 1.6, 0.2, Iris-setosa\n",
      "5.0, 3.4, 1.6, 0.4, Iris-setosa\n",
      "5.2, 3.5, 1.5, 0.2, Iris-setosa\n",
      "5.2, 3.4, 1.4, 0.2, Iris-setosa\n",
      "4.7, 3.2, 1.6, 0.2, Iris-setosa\n",
      "4.8, 3.1, 1.6, 0.2, Iris-setosa\n",
      "5.4, 3.4, 1.5, 0.4, Iris-setosa\n",
      "5.2, 4.1, 1.5, 0.1, Iris-setosa\n",
      "5.5, 4.2, 1.4, 0.2, Iris-setosa\n",
      "4.9, 3.1, 1.5, 0.1, Iris-setosa\n",
      "5.0, 3.2, 1.2, 0.2, Iris-setosa\n",
      "5.5, 3.5, 1.3, 0.2, Iris-setosa\n",
      "4.9, 3.1, 1.5, 0.1, Iris-setosa\n",
      "4.4, 3.0, 1.3, 0.2, Iris-setosa\n",
      "5.1, 3.4, 1.5, 0.2, Iris-setosa\n",
      "5.0, 3.5, 1.3, 0.3, Iris-setosa\n",
      "4.5, 2.3, 1.3, 0.3, Iris-setosa\n",
      "4.4, 3.2, 1.3, 0.2, Iris-setosa\n",
      "5.0, 3.5, 1.6, 0.6, Iris-setosa\n",
      "5.1, 3.8, 1.9, 0.4, Iris-setosa\n",
      "4.8, 3.0, 1.4, 0.3, Iris-setosa\n",
      "5.1, 3.8, 1.6, 0.2, Iris-setosa\n",
      "4.6, 3.2, 1.4, 0.2, Iris-setosa\n",
      "5.3, 3.7, 1.5, 0.2, Iris-setosa\n",
      "5.0, 3.3, 1.4, 0.2, Iris-setosa\n",
      "7.0, 3.2, 4.7, 1.4, Iris-versicolor\n",
      "6.4, 3.2, 4.5, 1.5, Iris-versicolor\n",
      "6.9, 3.1, 4.9, 1.5, Iris-versicolor\n",
      "5.5, 2.3, 4.0, 1.3, Iris-versicolor\n",
      "6.5, 2.8, 4.6, 1.5, Iris-versicolor\n",
      "5.7, 2.8, 4.5, 1.3, Iris-versicolor\n",
      "6.3, 3.3, 4.7, 1.6, Iris-versicolor\n",
      "4.9, 2.4, 3.3, 1.0, Iris-versicolor\n",
      "6.6, 2.9, 4.6, 1.3, Iris-versicolor\n",
      "5.2, 2.7, 3.9, 1.4, Iris-versicolor\n",
      "5.0, 2.0, 3.5, 1.0, Iris-versicolor\n",
      "5.9, 3.0, 4.2, 1.5, Iris-versicolor\n",
      "6.0, 2.2, 4.0, 1.0, Iris-versicolor\n",
      "6.1, 2.9, 4.7, 1.4, Iris-versicolor\n",
      "5.6, 2.9, 3.6, 1.3, Iris-versicolor\n",
      "6.7, 3.1, 4.4, 1.4, Iris-versicolor\n",
      "5.6, 3.0, 4.5, 1.5, Iris-versicolor\n",
      "5.8, 2.7, 4.1, 1.0, Iris-versicolor\n",
      "6.2, 2.2, 4.5, 1.5, Iris-versicolor\n",
      "5.6, 2.5, 3.9, 1.1, Iris-versicolor\n",
      "5.9, 3.2, 4.8, 1.8, Iris-versicolor\n",
      "6.1, 2.8, 4.0, 1.3, Iris-versicolor\n",
      "6.3, 2.5, 4.9, 1.5, Iris-versicolor\n",
      "6.1, 2.8, 4.7, 1.2, Iris-versicolor\n",
      "6.4, 2.9, 4.3, 1.3, Iris-versicolor\n",
      "6.6, 3.0, 4.4, 1.4, Iris-versicolor\n",
      "6.8, 2.8, 4.8, 1.4, Iris-versicolor\n",
      "6.7, 3.0, 5.0, 1.7, Iris-versicolor\n",
      "6.0, 2.9, 4.5, 1.5, Iris-versicolor\n",
      "5.7, 2.6, 3.5, 1.0, Iris-versicolor\n",
      "5.5, 2.4, 3.8, 1.1, Iris-versicolor\n",
      "5.5, 2.4, 3.7, 1.0, Iris-versicolor\n",
      "5.8, 2.7, 3.9, 1.2, Iris-versicolor\n",
      "6.0, 2.7, 5.1, 1.6, Iris-versicolor\n",
      "5.4, 3.0, 4.5, 1.5, Iris-versicolor\n",
      "6.0, 3.4, 4.5, 1.6, Iris-versicolor\n",
      "6.7, 3.1, 4.7, 1.5, Iris-versicolor\n",
      "6.3, 2.3, 4.4, 1.3, Iris-versicolor\n",
      "5.6, 3.0, 4.1, 1.3, Iris-versicolor\n",
      "5.5, 2.5, 4.0, 1.3, Iris-versicolor\n",
      "5.5, 2.6, 4.4, 1.2, Iris-versicolor\n",
      "6.1, 3.0, 4.6, 1.4, Iris-versicolor\n",
      "5.8, 2.6, 4.0, 1.2, Iris-versicolor\n",
      "5.0, 2.3, 3.3, 1.0, Iris-versicolor\n",
      "5.6, 2.7, 4.2, 1.3, Iris-versicolor\n",
      "5.7, 3.0, 4.2, 1.2, Iris-versicolor\n",
      "5.7, 2.9, 4.2, 1.3, Iris-versicolor\n",
      "6.2, 2.9, 4.3, 1.3, Iris-versicolor\n",
      "5.1, 2.5, 3.0, 1.1, Iris-versicolor\n",
      "5.7, 2.8, 4.1, 1.3, Iris-versicolor\n",
      "6.3, 3.3, 6.0, 2.5, Iris-virginica\n",
      "5.8, 2.7, 5.1, 1.9, Iris-virginica\n",
      "7.1, 3.0, 5.9, 2.1, Iris-virginica\n",
      "6.3, 2.9, 5.6, 1.8, Iris-virginica\n",
      "6.5, 3.0, 5.8, 2.2, Iris-virginica\n",
      "7.6, 3.0, 6.6, 2.1, Iris-virginica\n",
      "4.9, 2.5, 4.5, 1.7, Iris-virginica\n",
      "7.3, 2.9, 6.3, 1.8, Iris-virginica\n",
      "6.7, 2.5, 5.8, 1.8, Iris-virginica\n",
      "7.2, 3.6, 6.1, 2.5, Iris-virginica\n",
      "6.5, 3.2, 5.1, 2.0, Iris-virginica\n",
      "6.4, 2.7, 5.3, 1.9, Iris-virginica\n",
      "6.8, 3.0, 5.5, 2.1, Iris-virginica\n",
      "5.7, 2.5, 5.0, 2.0, Iris-virginica\n",
      "5.8, 2.8, 5.1, 2.4, Iris-virginica\n",
      "6.4, 3.2, 5.3, 2.3, Iris-virginica\n",
      "6.5, 3.0, 5.5, 1.8, Iris-virginica\n",
      "7.7, 3.8, 6.7, 2.2, Iris-virginica\n",
      "7.7, 2.6, 6.9, 2.3, Iris-virginica\n",
      "6.0, 2.2, 5.0, 1.5, Iris-virginica\n",
      "6.9, 3.2, 5.7, 2.3, Iris-virginica\n",
      "5.6, 2.8, 4.9, 2.0, Iris-virginica\n",
      "7.7, 2.8, 6.7, 2.0, Iris-virginica\n",
      "6.3, 2.7, 4.9, 1.8, Iris-virginica\n",
      "6.7, 3.3, 5.7, 2.1, Iris-virginica\n",
      "7.2, 3.2, 6.0, 1.8, Iris-virginica\n",
      "6.2, 2.8, 4.8, 1.8, Iris-virginica\n",
      "6.1, 3.0, 4.9, 1.8, Iris-virginica\n",
      "6.4, 2.8, 5.6, 2.1, Iris-virginica\n",
      "7.2, 3.0, 5.8, 1.6, Iris-virginica\n",
      "7.4, 2.8, 6.1, 1.9, Iris-virginica\n",
      "7.9, 3.8, 6.4, 2.0, Iris-virginica\n",
      "6.4, 2.8, 5.6, 2.2, Iris-virginica\n",
      "6.3, 2.8, 5.1, 1.5, Iris-virginica\n",
      "6.1, 2.6, 5.6, 1.4, Iris-virginica\n",
      "7.7, 3.0, 6.1, 2.3, Iris-virginica\n",
      "6.3, 3.4, 5.6, 2.4, Iris-virginica\n",
      "6.4, 3.1, 5.5, 1.8, Iris-virginica\n",
      "6.0, 3.0, 4.8, 1.8, Iris-virginica\n",
      "6.9, 3.1, 5.4, 2.1, Iris-virginica\n",
      "6.7, 3.1, 5.6, 2.4, Iris-virginica\n",
      "6.9, 3.1, 5.1, 2.3, Iris-virginica\n",
      "5.8, 2.7, 5.1, 1.9, Iris-virginica\n",
      "6.8, 3.2, 5.9, 2.3, Iris-virginica\n",
      "6.7, 3.3, 5.7, 2.5, Iris-virginica\n",
      "6.7, 3.0, 5.2, 2.3, Iris-virginica\n",
      "6.3, 2.5, 5.0, 1.9, Iris-virginica\n",
      "6.5, 3.0, 5.2, 2.0, Iris-virginica\n",
      "6.2, 3.4, 5.4, 2.3, Iris-virginica\n",
      "5.9, 3.0, 5.1, 1.8, Iris-virginica\n"
     ]
    }
   ],
   "source": [
    "import numpy as np\n",
    "import csv\n",
    "import matplotlib.pyplot as plt\n",
    "\n",
    "with open('iris.data.txt', 'r') as csvfile:\n",
    "    lines = csv.reader(csvfile)\n",
    "    for row in lines :\n",
    "        print (', '.join(row))"
   ]
  },
  {
   "cell_type": "markdown",
   "id": "93eb704a",
   "metadata": {},
   "source": [
    "splitting the data"
   ]
  },
  {
   "cell_type": "code",
   "execution_count": 115,
   "id": "7a438af0",
   "metadata": {},
   "outputs": [
    {
     "name": "stdout",
     "output_type": "stream",
     "text": [
      "0 0\n"
     ]
    }
   ],
   "source": [
    "import random\n",
    "import csv\n",
    "def loadDataset(filename, split, trainingSet=[] , testSet=[]):\n",
    "    with open(filename, 'r') as csvfile:\n",
    "        lines = csv.reader(csvfile)\n",
    "        dataset = list(lines)\n",
    "        random.seed(0)\n",
    "        random.shuffle(dataset)\n",
    "        for x in range(len(dataset)):\n",
    "            for y in range(4):\n",
    "                dataset[x][y] = float(dataset[x][y])\n",
    "        indx= int(len(dataset)*split)\n",
    "        trainingSet= dataset[:indx]\n",
    "        testSet=dataset[indx:]\n",
    "\n",
    "        return trainingSet , testSet\n",
    "\n",
    "trainingSet=[]\n",
    "testSet = []\n",
    "\n",
    "loadDataset('iris.data.txt', 0.66,trainingSet , testSet)\n",
    "\n",
    "print(len(trainingSet),len(testSet))"
   ]
  },
  {
   "cell_type": "markdown",
   "id": "9901ecbf",
   "metadata": {},
   "source": [
    "Distance function :\n"
   ]
  },
  {
   "cell_type": "code",
   "execution_count": 114,
   "id": "4a50b42e",
   "metadata": {},
   "outputs": [],
   "source": [
    "import math\n",
    "def euclideanDistance(instance1, instance2, length):\n",
    "    difference_squared = 0\n",
    "    for x in range(length):\n",
    "        difference_squared += pow((instance1[x] - instance2[x]), 2)\n",
    "    return math.sqrt(difference_squared)\n"
   ]
  },
  {
   "cell_type": "markdown",
   "id": "d049311b",
   "metadata": {},
   "source": [
    "Neighbors :"
   ]
  },
  {
   "cell_type": "code",
   "execution_count": 101,
   "id": "c268474a",
   "metadata": {},
   "outputs": [],
   "source": [
    "import operator\n",
    "\n",
    "def getNeighbors(trainingSet, testInstance, k,distance_metric=None):\n",
    "   \n",
    "    distances = []\n",
    "    length = len(testInstance)-1\n",
    "    #print(length)\n",
    "    for x in range(len(trainingSet)):\n",
    "        dist = distance_metric(testInstance, trainingSet[x], length)\n",
    "        distances.append((trainingSet[x], dist))\n",
    "      \n",
    "    distances.sort(key=operator.itemgetter(1))\n",
    "        #print('distances sorted',distances)\n",
    "    neighbors = []\n",
    "    for x in range(k):\n",
    "        neighbors.append(distances[x][0])\n",
    "        #print('The new one look like neighbors', neighbors)\n",
    "    return neighbors"
   ]
  },
  {
   "cell_type": "code",
   "execution_count": 107,
   "id": "3a7eb32f",
   "metadata": {},
   "outputs": [
    {
     "name": "stdout",
     "output_type": "stream",
     "text": [
      "a\n"
     ]
    }
   ],
   "source": [
    "def getResponse(neighbors):\n",
    "    classVotes = {}\n",
    "\n",
    "    for x in range(len(neighbors)):\n",
    "        response = neighbors[x][-1] #complete with appropriate number\n",
    "        \n",
    "        classVotes.setdefault(response,0)\n",
    "        if response in classVotes.keys():\n",
    "            # increase frequency by +1\n",
    "            classVotes[response] +=1\n",
    "\n",
    "    sortedVotes = sorted(classVotes.items(), key=operator.itemgetter(1), reverse=True)\n",
    "    return sortedVotes[0][0]\n",
    "\n",
    "# We can test out this function with some test neighbors, as follows:\n",
    "\n",
    "neighbors = [[1,1,1,'a'], [2,2,2,'a'], [3,3,3,'b']]\n",
    "\n",
    "response = getResponse(neighbors)\n",
    "print(response)"
   ]
  },
  {
   "cell_type": "code",
   "execution_count": 108,
   "id": "f8522191",
   "metadata": {},
   "outputs": [
    {
     "name": "stdout",
     "output_type": "stream",
     "text": [
      "66.66666666666666\n"
     ]
    }
   ],
   "source": [
    "def getAccuracy(testSet, predictions):\n",
    "    # Complete the function\n",
    "    correct = 0\n",
    "    for x in range(len(testSet)):\n",
    "        if testSet[x][-1] == predictions[x]:\n",
    "            correct +=1\n",
    "   \n",
    "    return (correct/len(testSet)) * 100.0\n",
    "\n",
    "# We can test this function with a test dataset and predictions, as follows:\n",
    "testSet = [[1,1,1,'a'], [2,2,2,'a'], [3,3,3,'b']]\n",
    "predictions = ['a', 'a', 'a']\n",
    "\n",
    "accuracy = getAccuracy(testSet, predictions)\n",
    "print(accuracy)"
   ]
  },
  {
   "cell_type": "code",
   "execution_count": 109,
   "id": "9dd25be2",
   "metadata": {},
   "outputs": [],
   "source": [
    "def main(dataset_filename, k, split, distanceFunc):\n",
    "    \n",
    "    trainingSet, testSet=loadDataset(dataset_filename, split)\n",
    "    \n",
    "    predictions = []\n",
    "    for testInstance in testSet:\n",
    "        neighbors = getNeighbors(trainingSet, testInstance[:-1], k, distanceFunc)\n",
    "        response = getResponse(neighbors)\n",
    "        predictions.append(response)\n",
    "        \n",
    "    accuracy = getAccuracy(testSet, predictions)\n",
    "    print(\"Accuracy = %.2f\" % accuracy)\n",
    "    return accuracy"
   ]
  },
  {
   "cell_type": "code",
   "execution_count": 129,
   "id": "3bd88e60",
   "metadata": {},
   "outputs": [
    {
     "name": "stdout",
     "output_type": "stream",
     "text": [
      "Accuracy = 90.20\n",
      "Accuracy = 90.20\n",
      "Accuracy = 90.20\n",
      "Accuracy = 90.20\n",
      "Accuracy = 92.16\n",
      "Accuracy = 94.12\n",
      "Accuracy = 96.08\n",
      "Accuracy = 94.12\n",
      "Accuracy = 96.08\n",
      "Accuracy = 94.12\n",
      "Accuracy = 98.04\n",
      "Accuracy = 94.12\n",
      "Accuracy = 94.12\n",
      "Accuracy = 94.12\n",
      "Accuracy = 94.12\n",
      "Accuracy = 94.12\n",
      "Accuracy = 94.12\n",
      "Accuracy = 94.12\n",
      "Accuracy = 94.12\n",
      "Accuracy = 94.12\n",
      "Accuracy = 94.12\n",
      "Accuracy = 94.12\n",
      "Accuracy = 94.12\n",
      "Accuracy = 94.12\n",
      "Accuracy = 94.12\n",
      "Accuracy = 94.12\n",
      "Accuracy = 96.08\n",
      "Accuracy = 92.16\n",
      "Accuracy = 94.12\n",
      "Accuracy = 94.12\n"
     ]
    }
   ],
   "source": [
    "scores=[]\n",
    "for k in range(1,31):\n",
    "    accuracy=main(\"iris.data.txt\", k, 0.66, euclideanDistance)\n",
    "    scores.append(accuracy)"
   ]
  },
  {
   "cell_type": "code",
   "execution_count": 130,
   "id": "2c1baa9a",
   "metadata": {},
   "outputs": [
    {
     "data": {
      "text/plain": [
       "[<matplotlib.lines.Line2D at 0x1b63359cc10>]"
      ]
     },
     "execution_count": 130,
     "metadata": {},
     "output_type": "execute_result"
    },
    {
     "data": {
      "image/png": "[encoded data removed]",
      "text/plain": [
       "<Figure size 432x288 with 1 Axes>"
      ]
     },
     "metadata": {
      "needs_background": "light"
     },
     "output_type": "display_data"
    }
   ],
   "source": [
    "plt.plot(range(1,31),scores)"
   ]
  },
  {
   "cell_type": "code",
   "execution_count": 131,
   "id": "22d173ce",
   "metadata": {},
   "outputs": [
    {
     "name": "stdout",
     "output_type": "stream",
     "text": [
      "the best Accuracy is 98.0392156862745\n",
      "best k is : 11\n"
     ]
    }
   ],
   "source": [
    "import numpy as np\n",
    "print(\"the best Accuracy is\",np.max(scores))\n",
    "print(\"best k is :\", np.argmax(scores)+1)"
   ]
  },
  {
   "cell_type": "code",
   "execution_count": 132,
   "id": "0537ccff",
   "metadata": {},
   "outputs": [],
   "source": [
    "def manhattanDistance(instance1, instance2, length):\n",
    "    #   Complete the function\n",
    "    distance = 0\n",
    "    for i in range(length):\n",
    "        distance += abs(instance2[i]-instance1[i])\n",
    "\n",
    "    return distance\n",
    "\n",
    "def minkowskiDistance(instance1, instance2, length,degree=2):\n",
    "    difference_squared = 0\n",
    "    for x in range(length):\n",
    "        difference_squared += pow((instance1[x] - instance2[x]), degree)\n",
    "    return pow(difference_squared,1/degree)"
   ]
  },
  {
   "cell_type": "markdown",
   "id": "25c2b478",
   "metadata": {},
   "source": [
    "Manhattan distance :"
   ]
  },
  {
   "cell_type": "code",
   "execution_count": 133,
   "id": "f61ffb28",
   "metadata": {},
   "outputs": [
    {
     "name": "stdout",
     "output_type": "stream",
     "text": [
      "Accuracy = 92.16\n",
      "Accuracy = 92.16\n",
      "Accuracy = 92.16\n",
      "Accuracy = 92.16\n",
      "Accuracy = 92.16\n",
      "Accuracy = 94.12\n",
      "Accuracy = 94.12\n",
      "Accuracy = 94.12\n",
      "Accuracy = 92.16\n",
      "Accuracy = 94.12\n",
      "Accuracy = 94.12\n",
      "Accuracy = 94.12\n",
      "Accuracy = 94.12\n",
      "Accuracy = 94.12\n",
      "Accuracy = 94.12\n",
      "Accuracy = 94.12\n",
      "Accuracy = 94.12\n",
      "Accuracy = 94.12\n",
      "Accuracy = 94.12\n",
      "Accuracy = 94.12\n",
      "Accuracy = 94.12\n",
      "Accuracy = 94.12\n",
      "Accuracy = 94.12\n",
      "Accuracy = 94.12\n",
      "Accuracy = 92.16\n",
      "Accuracy = 92.16\n",
      "Accuracy = 94.12\n",
      "Accuracy = 92.16\n",
      "Accuracy = 94.12\n",
      "Accuracy = 96.08\n"
     ]
    }
   ],
   "source": [
    "scores=[]\n",
    "for k in range(1,31):\n",
    "    accuracy=main(\"iris.data.txt\", k, 0.66, manhattanDistance)\n",
    "    scores.append(accuracy)"
   ]
  },
  {
   "cell_type": "code",
   "execution_count": 134,
   "id": "5675ba0d",
   "metadata": {},
   "outputs": [
    {
     "data": {
      "text/plain": [
       "[<matplotlib.lines.Line2D at 0x1b6336038e0>]"
      ]
     },
     "execution_count": 134,
     "metadata": {},
     "output_type": "execute_result"
    },
    {
     "data": {
      "image/png": "[encoded data removed]",
      "text/plain": [
       "<Figure size 432x288 with 1 Axes>"
      ]
     },
     "metadata": {
      "needs_background": "light"
     },
     "output_type": "display_data"
    }
   ],
   "source": [
    "plt.plot(range(1,31),scores)"
   ]
  },
  {
   "cell_type": "code",
   "execution_count": 135,
   "id": "6ded29dc",
   "metadata": {},
   "outputs": [
    {
     "name": "stdout",
     "output_type": "stream",
     "text": [
      "the best Accuracy is 96.07843137254902\n",
      "best k is : 30\n"
     ]
    }
   ],
   "source": [
    "import numpy as np\n",
    "print(\"the best Accuracy is\",np.max(scores))\n",
    "print(\"best k is :\", np.argmax(scores)+1)"
   ]
  },
  {
   "cell_type": "markdown",
   "id": "d3d2fa56",
   "metadata": {},
   "source": [
    "Minkowski distance :"
   ]
  },
  {
   "cell_type": "code",
   "execution_count": 136,
   "id": "a169d881",
   "metadata": {},
   "outputs": [
    {
     "name": "stdout",
     "output_type": "stream",
     "text": [
      "Accuracy = 90.20\n",
      "Accuracy = 90.20\n",
      "Accuracy = 90.20\n",
      "Accuracy = 90.20\n",
      "Accuracy = 92.16\n",
      "Accuracy = 94.12\n",
      "Accuracy = 96.08\n",
      "Accuracy = 94.12\n",
      "Accuracy = 96.08\n",
      "Accuracy = 94.12\n",
      "Accuracy = 98.04\n",
      "Accuracy = 94.12\n",
      "Accuracy = 94.12\n",
      "Accuracy = 94.12\n",
      "Accuracy = 94.12\n",
      "Accuracy = 94.12\n",
      "Accuracy = 94.12\n",
      "Accuracy = 94.12\n",
      "Accuracy = 94.12\n",
      "Accuracy = 94.12\n",
      "Accuracy = 94.12\n",
      "Accuracy = 94.12\n",
      "Accuracy = 94.12\n",
      "Accuracy = 94.12\n",
      "Accuracy = 94.12\n",
      "Accuracy = 94.12\n",
      "Accuracy = 96.08\n",
      "Accuracy = 92.16\n",
      "Accuracy = 94.12\n",
      "Accuracy = 94.12\n"
     ]
    }
   ],
   "source": [
    "scores=[]\n",
    "for k in range(1,31):\n",
    "    accuracy=main(\"iris.data.txt\", k, 0.66, minkowskiDistance)\n",
    "    scores.append(accuracy)"
   ]
  },
  {
   "cell_type": "code",
   "execution_count": 137,
   "id": "a1bb8c40",
   "metadata": {},
   "outputs": [
    {
     "data": {
      "text/plain": [
       "[<matplotlib.lines.Line2D at 0x1b633666550>]"
      ]
     },
     "execution_count": 137,
     "metadata": {},
     "output_type": "execute_result"
    },
    {
     "data": {
      "image/png": "[encoded data removed]",
      "text/plain": [
       "<Figure size 432x288 with 1 Axes>"
      ]
     },
     "metadata": {
      "needs_background": "light"
     },
     "output_type": "display_data"
    }
   ],
   "source": [
    "plt.plot(range(1,31),scores)"
   ]
  },
  {
   "cell_type": "code",
   "execution_count": 138,
   "id": "d0f588b2",
   "metadata": {},
   "outputs": [
    {
     "name": "stdout",
     "output_type": "stream",
     "text": [
      "the best Accuracy is 98.0392156862745\n",
      "best k is : 11\n"
     ]
    }
   ],
   "source": [
    "import numpy as np\n",
    "print(\"the best Accuracy is\",np.max(scores))\n",
    "print(\"best k is :\", np.argmax(scores)+1)"
   ]
  },
  {
   "cell_type": "markdown",
   "id": "a59bce2b",
   "metadata": {},
   "source": [
    "euclidean and minkowski ditances gived the best accuracys (98,03) with the same vlaue of k 11"
   ]
  },
  {
   "cell_type": "code",
   "execution_count": null,
   "id": "bd6cb146",
   "metadata": {},
   "outputs": [],
   "source": []
  }
 ],
 "metadata": {
  "kernelspec": {
   "display_name": "Python 3",
   "language": "python",
   "name": "python3"
  },
  "language_info": {
   "codemirror_mode": {
    "name": "ipython",
    "version": 3
   },
   "file_extension": ".py",
   "mimetype": "text/x-python",
   "name": "python",
   "nbconvert_exporter": "python",
   "pygments_lexer": "ipython3",
   "version": "3.8.8"
  }
 },
 "nbformat": 4,
 "nbformat_minor": 5
}
